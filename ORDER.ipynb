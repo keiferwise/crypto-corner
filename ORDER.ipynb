{
 "cells": [
  {
   "cell_type": "code",
   "execution_count": 2,
   "metadata": {},
   "outputs": [],
   "source": [
    "def find_t(N,g):\n",
    "    powers = [g]\n",
    "    #print(powers)\n",
    "    count = 1\n",
    "    t=1\n",
    "    temp = 0\n",
    "    while(True):\n",
    "        temp = (pow(g,count+1)) % N\n",
    "        print(str(g)+\"^\"+str(count+1)+\" mod \"+str(N)+\" = \"+str(temp))\n",
    "        #print(temp)\n",
    "        powers.append(temp)\n",
    "        #print(powers)\n",
    "        t+=1\n",
    "        count+=1\n",
    "        if(temp == 1):\n",
    "            print(\"❬ \"+str(N) +\", \" + str(g)+\", \"+ str(t)+\" ❭ ∈ ORDER\")\n",
    "            break\n",
    "        elif(powers[0] == temp):\n",
    "            print(\"stopping because we've reached a loop... \"+str(temp) + \" = \" + str(powers[0]))\n",
    "            break\n",
    "\n",
    "        #print(str(t))\n",
    "        \n",
    "        \n",
    "    return [t,powers]\n",
    "    "
   ]
  },
  {
   "cell_type": "code",
   "execution_count": 3,
   "metadata": {},
   "outputs": [
    {
     "name": "stdout",
     "output_type": "stream",
     "text": [
      "10^2 mod 19 = 5\n",
      "10^3 mod 19 = 12\n",
      "10^4 mod 19 = 6\n",
      "10^5 mod 19 = 3\n",
      "10^6 mod 19 = 11\n",
      "10^7 mod 19 = 15\n",
      "10^8 mod 19 = 17\n",
      "10^9 mod 19 = 18\n",
      "10^10 mod 19 = 9\n",
      "10^11 mod 19 = 14\n",
      "10^12 mod 19 = 7\n",
      "10^13 mod 19 = 13\n",
      "10^14 mod 19 = 16\n",
      "10^15 mod 19 = 8\n",
      "10^16 mod 19 = 4\n",
      "10^17 mod 19 = 2\n",
      "10^18 mod 19 = 1\n",
      "❬ 19, 10, 18 ❭ ∈ ORDER\n"
     ]
    },
    {
     "data": {
      "text/plain": [
       "[18, [10, 5, 12, 6, 3, 11, 15, 17, 18, 9, 14, 7, 13, 16, 8, 4, 2, 1]]"
      ]
     },
     "execution_count": 3,
     "metadata": {},
     "output_type": "execute_result"
    }
   ],
   "source": [
    "N=19\n",
    "g=10\n",
    "find_t(N,g)"
   ]
  },
  {
   "cell_type": "code",
   "execution_count": null,
   "metadata": {},
   "outputs": [],
   "source": [
    "N=51\n",
    "g=3\n",
    "find_t(N,g)"
   ]
  }
 ],
 "metadata": {
  "kernelspec": {
   "display_name": "Python 3",
   "language": "python",
   "name": "python3"
  },
  "language_info": {
   "codemirror_mode": {
    "name": "ipython",
    "version": 3
   },
   "file_extension": ".py",
   "mimetype": "text/x-python",
   "name": "python",
   "nbconvert_exporter": "python",
   "pygments_lexer": "ipython3",
   "version": "3.7.4"
  }
 },
 "nbformat": 4,
 "nbformat_minor": 2
}
